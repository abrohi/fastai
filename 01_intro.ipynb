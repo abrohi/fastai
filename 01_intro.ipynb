{
 "cells": [
  {
   "cell_type": "code",
   "execution_count": 1,
   "id": "18a13d6e",
   "metadata": {},
   "outputs": [],
   "source": [
    "#! pip install -Uqq fastbook"
   ]
  },
  {
   "cell_type": "code",
   "execution_count": 2,
   "id": "cde1b67e",
   "metadata": {},
   "outputs": [],
   "source": [
    "from fastbook import *"
   ]
  },
  {
   "cell_type": "markdown",
   "id": "18326916",
   "metadata": {},
   "source": [
    "### Deep Learning comes from neural network - created in 1943, where McCulloch delveoped mathematical model of an artificial neuron\n",
    "\n",
    "### In 1961, Frank Rosenblatt built on top of the above to build the first the first percepton.\n",
    "\n",
    "### The above was not useful unless one includes more layers. \n",
    "\n",
    "### 1986, Parallel Distributed Processing (PDP) - helps to build the second stage of layer of neurons - avioding the problem that had been identified by Minsky.\n",
    "\n",
    "### Research shown that to get practial good performance one will need to use even more layers of neurons to allow any mathematical model to be approximated. \n",
    "\n",
    "### Deep = including more layers of neurons. \n"
   ]
  },
  {
   "cell_type": "code",
   "execution_count": null,
   "id": "1c365b30",
   "metadata": {},
   "outputs": [],
   "source": [
    "#id first_training\n",
    "#caption Results from the first training\n",
    "# CLICK ME\n",
    "\n",
    "from fastai.vision.all import *\n",
    "path = untar_data(URLs.PETS)/'images' # grabbing pets data base to find out\n",
    "# which ones are cats vs dogs\n",
    "\n",
    "# function on creating labels from image title\n",
    "# if first character in title is upper case then its a cat\n",
    "def is_cat(x): return x[0].isupper()\n",
    "\n",
    "# erorr rate on testing/validation data (20% of data) to avoid overfitting\n",
    "dls = ImageDataLoaders.from_name_func(\n",
    "    path, get_image_files(path), valid_pct=0.2, seed=42,\n",
    "    label_func=is_cat, item_tfms=Resize(224))\n",
    "\n",
    "# the pre-trained vision cnn model \n",
    "# inputs: data, the archiceture/model to use, print out the error/loss\n",
    "\n",
    "learn = vision_learner(dls, resnet34, metrics=error_rate)\n",
    "learn.fine_tune(1)"
   ]
  },
  {
   "cell_type": "markdown",
   "id": "20b6b1b0",
   "metadata": {},
   "source": [
    "#### Example of machine learning \n",
    "\n",
    "Right back at the dawn of computing, in 1949, an IBM researcher named Arthur Samuel started working on a different way to get computers to complete tasks, which he called machine learning. \n",
    "\n",
    "His basic idea was this: instead of telling the computer the exact steps required to solve a problem, show it examples of the problem to solve, and let it figure out how to solve it itself. \n",
    "\n",
    "Machine Learning: training of programs developed by allowing the computer to learn from its experience, rather than through manually codiing the individual steps.\n"
   ]
  },
  {
   "cell_type": "markdown",
   "id": "d0d3e2f1",
   "metadata": {},
   "source": [
    "### Neural networks are flexible enough that it could be used to solve any given problem with the right set of weights/parameters. \n",
    "\n",
    "Stochasitc gradient descent (SGD) - method to update the weights of a neural network, to make it improve at any given task!\n",
    "\n",
    "\n",
    "Samuel was working in the 1960s, and since then terminology has changed. Here is the modern deep learning terminology for all the pieces we have discussed:\n",
    "\n",
    "- The functional form of the model is called its architecture (but be careful—sometimes people use model as a synonym of architecture, so this can get confusing).\n",
    "- The weights are called parameters.\n",
    "- The predictions are calculated from the independent variable, which is the data not including the labels.\n",
    "- The results of the model are called predictions.\n",
    "- The measure of performance is called the loss.\n",
    "- The loss depends not only on the predictions, but also the correct labels (also known as targets or the dependent variable); e.g., \"dog\" or \"cat.\"\n"
   ]
  },
  {
   "cell_type": "markdown",
   "id": "701ad9fa",
   "metadata": {},
   "source": [
    "Limitations Inherent To Machine Learning\n",
    "\n",
    "From this picture we can now see some fundamental things about training a deep learning model:\n",
    "\n",
    "- A model cannot be created without data.\n",
    "- A model can only learn to operate on the patterns seen in the input data used to train it.\n",
    "- This learning approach only creates predictions, not recommended actions.\n",
    "- It's not enough to just have examples of input data; we need labels for that data too (e.g., pictures of dogs and cats aren't enough to train a model; we need a label for each one, saying which ones are dogs, and which are cats)."
   ]
  },
  {
   "cell_type": "code",
   "execution_count": null,
   "id": "282d9a61",
   "metadata": {},
   "outputs": [],
   "source": []
  }
 ],
 "metadata": {
  "kernelspec": {
   "display_name": "Python [conda env:root] *",
   "language": "python",
   "name": "conda-root-py"
  },
  "language_info": {
   "codemirror_mode": {
    "name": "ipython",
    "version": 3
   },
   "file_extension": ".py",
   "mimetype": "text/x-python",
   "name": "python",
   "nbconvert_exporter": "python",
   "pygments_lexer": "ipython3",
   "version": "3.8.8"
  }
 },
 "nbformat": 4,
 "nbformat_minor": 5
}
