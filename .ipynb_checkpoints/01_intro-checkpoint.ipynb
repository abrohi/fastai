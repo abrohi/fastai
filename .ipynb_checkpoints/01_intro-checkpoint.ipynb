{
 "cells": [
  {
   "cell_type": "code",
   "execution_count": 1,
   "id": "0898bfe8",
   "metadata": {},
   "outputs": [],
   "source": [
    "#! pip install -Uqq fastbook"
   ]
  },
  {
   "cell_type": "code",
   "execution_count": 2,
   "id": "147c0c2b",
   "metadata": {},
   "outputs": [],
   "source": [
    "from fastbook import *"
   ]
  },
  {
   "cell_type": "markdown",
   "id": "8cc59a47",
   "metadata": {},
   "source": [
    "### Deep Learning comes from neural network - created in 1943, where McCulloch delveoped mathematical model of an artificial neuron\n",
    "\n",
    "### In 1961, Frank Rosenblatt built on top of the above to build the first the first percepton.\n",
    "\n",
    "### The above was not useful unless one includes more layers. \n",
    "\n",
    "### 1986, Parallel Distributed Processing (PDP) - helps to build the second stage of layer of neurons - avioding the problem that had been identified by Minsky.\n",
    "\n",
    "### Research shown that to get practial good performance one will need to use even more layers of neurons to allow any mathematical model to be approximated. \n",
    "\n",
    "### Deep = including more layers of neurons. \n"
   ]
  },
  {
   "cell_type": "code",
   "execution_count": null,
   "id": "cccc2759",
   "metadata": {},
   "outputs": [],
   "source": [
    "#id first_training\n",
    "#caption Results from the first training\n",
    "# CLICK ME\n",
    "\n",
    "from fastai.vision.all import *\n",
    "path = untar_data(URLs.PETS)/'images' # grabbing pets data base to find out\n",
    "# which ones are cats vs dogs\n",
    "\n",
    "def is_cat(x): return x[0].isupper()\n",
    "\n",
    "dls = ImageDataLoaders.from_name_func(\n",
    "    path, get_image_files(path), valid_pct=0.2, seed=42,\n",
    "    label_func=is_cat, item_tfms=Resize(224))\n",
    "\n",
    "learn = vision_learner(dls, resnet34, metrics=error_rate)\n",
    "learn.fine_tune(1)"
   ]
  },
  {
   "cell_type": "markdown",
   "id": "055d713b",
   "metadata": {},
   "source": [
    "#### Example of machine learning \n",
    "\n",
    "Right back at the dawn of computing, in 1949, an IBM researcher named Arthur Samuel started working on a different way to get computers to complete tasks, which he called machine learning. \n",
    "\n",
    "His basic idea was this: instead of telling the computer the exact steps required to solve a problem, show it examples of the problem to solve, and let it figure out how to solve it itself. \n",
    "\n",
    "Machine Learning: training of programs developed by allowing the computer to learn from its experience, rather than through manually codiing the individual steps.\n"
   ]
  },
  {
   "cell_type": "code",
   "execution_count": null,
   "id": "9b5f5013",
   "metadata": {},
   "outputs": [],
   "source": []
  }
 ],
 "metadata": {
  "kernelspec": {
   "display_name": "Python [conda env:root] *",
   "language": "python",
   "name": "conda-root-py"
  },
  "language_info": {
   "codemirror_mode": {
    "name": "ipython",
    "version": 3
   },
   "file_extension": ".py",
   "mimetype": "text/x-python",
   "name": "python",
   "nbconvert_exporter": "python",
   "pygments_lexer": "ipython3",
   "version": "3.8.8"
  }
 },
 "nbformat": 4,
 "nbformat_minor": 5
}
